{
 "cells": [
  {
   "cell_type": "markdown",
   "metadata": {},
   "source": [
    "Import d3js and its dependencies"
   ]
  },
  {
   "cell_type": "code",
   "execution_count": null,
   "metadata": {
    "dotnet_interactive": {
     "language": "javascript"
    },
    "polyglot_notebook": {
     "kernelName": "javascript"
    }
   },
   "outputs": [],
   "source": [
    "d3 = await import(\"https://cdn.jsdelivr.net/npm/d3@7/+esm\");\n",
    "d3a = await import(\"https://cdn.jsdelivr.net/npm/d3-array@3.2.4/+esm\");\n",
    "d3c = await import(\"https://cdn.jsdelivr.net/npm/d3-collection@1.0.7/+esm\");\n",
    "d3p = await import(\"https://cdn.jsdelivr.net/npm/d3-path@3.1.0/+esm\");\n",
    "d3sh = await import(\"https://cdn.jsdelivr.net/npm/d3-shape@3.2.0/+esm\");\n",
    "d3s = await import(\"https://cdn.jsdelivr.net/npm/d3-sankey@0.12.3/+esm\");\n",
    "d3export = await import(\"https://cdn.jsdelivr.net/npm/d3-save-svg@0.0.2/+esm\")"
   ]
  },
  {
   "cell_type": "markdown",
   "metadata": {},
   "source": [
    "Parameters and queries"
   ]
  },
  {
   "cell_type": "code",
   "execution_count": null,
   "metadata": {
    "dotnet_interactive": {
     "language": "pwsh"
    },
    "polyglot_notebook": {
     "kernelName": "pwsh"
    },
    "tags": [
     "parameters"
    ]
   },
   "outputs": [],
   "source": [
    "$WorkspaceID = '2cc447f2-d22b-4f8c-8786-f522710c1b25'\n",
    "$dateFiler = 'ago(1d)'"
   ]
  },
  {
   "cell_type": "code",
   "execution_count": null,
   "metadata": {
    "dotnet_interactive": {
     "language": "pwsh"
    },
    "polyglot_notebook": {
     "kernelName": "pwsh"
    }
   },
   "outputs": [],
   "source": [
    "$appQuery = @\"\n",
    "AZFWApplicationRule | where TimeGenerated  >= $dateFiler\n",
    "\"@\n",
    "\n",
    "$networkQuery = @\"\n",
    "AZFWNetworkRule | where TimeGenerated  >= $dateFiler\n",
    "\"@\n",
    "\n",
    "$natQuery = @\"\n",
    "AZFWNatRule | where TimeGenerated  >= $dateFiler\n",
    "\"@\n",
    "\n",
    "\n",
    "Function Get-WhoIs {\n",
    "    [cmdletbinding()]\n",
    "    [OutputType(\"WhoIsResult\")]\n",
    "    Param (\n",
    "        [parameter(Position = 0,\n",
    "            Mandatory,\n",
    "            HelpMessage = \"Enter an IPV4 address to lookup with WhoIs\",\n",
    "            ValueFromPipeline,\n",
    "            ValueFromPipelineByPropertyName)]\n",
    "        [ValidateNotNullOrEmpty()]\n",
    "        [ValidatePattern(\"^\\d{1,3}\\.\\d{1,3}\\.\\d{1,3}\\.\\d{1,3}$\")]\n",
    "        [ValidateScript( {\n",
    "            #verify each octet is valid to simplify the regex\n",
    "                $test = ($_.split(\".\")).where({[int]$_ -gt 254})\n",
    "                if ($test) {\n",
    "                    Throw \"$_ does not appear to be a valid IPv4 address\"\n",
    "                    $false\n",
    "                }\n",
    "                else {\n",
    "                    $true\n",
    "                }\n",
    "            })]\n",
    "        [string]$IPAddress\n",
    "    )\n",
    "\n",
    "    Begin {\n",
    "        Write-Verbose \"Starting $($MyInvocation.Mycommand)\"\n",
    "        $baseURL = 'http://whois.arin.net/rest'\n",
    "        #default is XML anyway\n",
    "        $header = @{\"Accept\" = \"application/xml\"}\n",
    "\n",
    "    } #begin\n",
    "\n",
    "    Process {\n",
    "        Write-Verbose \"Getting WhoIs information for $IPAddress\"\n",
    "        $url = \"$baseUrl/ip/$ipaddress\"\n",
    "        Try {\n",
    "            $r = Invoke-Restmethod $url -Headers $header -ErrorAction stop\n",
    "            Write-verbose ($r.net | Out-String)\n",
    "        }\n",
    "        Catch {\n",
    "            $errMsg = \"Sorry. There was an error retrieving WhoIs information for $IPAddress. $($_.exception.message)\"\n",
    "            $host.ui.WriteErrorLine($errMsg)\n",
    "        }\n",
    "\n",
    "        if ($r.net) {\n",
    "            Write-Verbose \"Creating result\"\n",
    "            [pscustomobject]@{\n",
    "                PSTypeName             = \"WhoIsResult\"\n",
    "                IP                     = $ipaddress\n",
    "                Name                   = $r.net.name\n",
    "                RegisteredOrganization = $r.net.orgRef.name\n",
    "                City                   = (Invoke-RestMethod $r.net.orgRef.'#text').org.city\n",
    "                StartAddress           = $r.net.startAddress\n",
    "                EndAddress             = $r.net.endAddress\n",
    "                NetBlocks              = $r.net.netBlocks.netBlock | foreach-object {\"$($_.startaddress)/$($_.cidrLength)\"}\n",
    "                Updated                = $r.net.updateDate -as [datetime]\n",
    "            }\n",
    "        } #If $r.net\n",
    "    } #Process\n",
    "\n",
    "    End {\n",
    "        Write-Verbose \"Ending $($MyInvocation.Mycommand)\"\n",
    "    } #end\n",
    "}"
   ]
  },
  {
   "cell_type": "markdown",
   "metadata": {},
   "source": [
    "> NOTE\n",
    "\n",
    "Before you can run below command, you should login to Azure"
   ]
  },
  {
   "cell_type": "markdown",
   "metadata": {},
   "source": [
    "Get Application-level data"
   ]
  },
  {
   "cell_type": "code",
   "execution_count": null,
   "metadata": {
    "dotnet_interactive": {
     "language": "pwsh"
    },
    "polyglot_notebook": {
     "kernelName": "pwsh"
    }
   },
   "outputs": [],
   "source": [
    "$appDataSet = Invoke-AzOperationalInsightsQuery -WorkspaceId $WorkspaceID -Query $appQuery -ErrorAction Stop | Select-Object -ExpandProperty Results"
   ]
  },
  {
   "cell_type": "markdown",
   "metadata": {},
   "source": [
    "Get Network-level data"
   ]
  },
  {
   "cell_type": "code",
   "execution_count": null,
   "metadata": {
    "dotnet_interactive": {
     "language": "pwsh"
    },
    "polyglot_notebook": {
     "kernelName": "pwsh"
    }
   },
   "outputs": [],
   "source": [
    "$netDataSet = Invoke-AzOperationalInsightsQuery -WorkspaceId $WorkspaceID -Query $networkQuery -ErrorAction Stop | Select-Object -ExpandProperty Results"
   ]
  },
  {
   "cell_type": "markdown",
   "metadata": {},
   "source": [
    "Get NAT-leven data"
   ]
  },
  {
   "cell_type": "code",
   "execution_count": null,
   "metadata": {
    "dotnet_interactive": {
     "language": "pwsh"
    },
    "polyglot_notebook": {
     "kernelName": "pwsh"
    }
   },
   "outputs": [],
   "source": [
    "$natDataSet = Invoke-AzOperationalInsightsQuery -WorkspaceId $WorkspaceID -Query $natQuery -ErrorAction Stop | Select-Object -ExpandProperty Results"
   ]
  },
  {
   "cell_type": "markdown",
   "metadata": {},
   "source": [
    "Convert and filter data"
   ]
  },
  {
   "cell_type": "code",
   "execution_count": null,
   "metadata": {
    "dotnet_interactive": {
     "language": "pwsh"
    },
    "polyglot_notebook": {
     "kernelName": "pwsh"
    }
   },
   "outputs": [],
   "source": [
    "$sourceIpGroups = $appDataSet | Group-Object SourceIp\n",
    "\n",
    "$appDataSetConverted = \n",
    "foreach ($group in $sourceIpGroups) {\n",
    "    $source = $group.Name\n",
    "    $targets = $group.Group | Group-Object Fqdn, Action\n",
    "\n",
    "    foreach($target in $targets) {\n",
    "        [PSCustomObject]@{\n",
    "            source = $source;\n",
    "            sourceName = $source\n",
    "            target = ($target.Name -split \",\")[0]\n",
    "            action = $target.Group[0].Action\n",
    "            value = $target.Count\n",
    "        }\n",
    "    }\n",
    "}\n",
    "\n",
    "$appDataSetConverted[0..3] | ft -AutoSize"
   ]
  },
  {
   "cell_type": "code",
   "execution_count": null,
   "metadata": {
    "dotnet_interactive": {
     "language": "pwsh"
    },
    "polyglot_notebook": {
     "kernelName": "pwsh"
    }
   },
   "outputs": [],
   "source": [
    "$sourceIpGroups = $netDataSet | Group-Object SourceIp\n",
    "\n",
    "$networkDataSetConverted = \n",
    "foreach ($group in $sourceIpGroups) {\n",
    "    $source = $group.Name\n",
    "    $targets = $group.Group | Group-Object DestinationIp, Action\n",
    "\n",
    "    foreach($target in $targets) {\n",
    "        [PSCustomObject]@{\n",
    "            source = $source;\n",
    "            sourceName = $source\n",
    "            target = ($target.Name -split \",\")[0]\n",
    "            action = (($target.Name -split \",\")[1]).trim()\n",
    "            value = $target.Count\n",
    "        }\n",
    "    }\n",
    "}\n",
    "\n",
    "$networkDataSetConverted[0..3] | ft -AutoSize"
   ]
  },
  {
   "cell_type": "code",
   "execution_count": null,
   "metadata": {
    "dotnet_interactive": {
     "language": "pwsh"
    },
    "polyglot_notebook": {
     "kernelName": "pwsh"
    }
   },
   "outputs": [],
   "source": [
    "$sourceIpGroups = $natDataSet | Group-Object SourceIp, DestinationIp, DestinationPort\n",
    "\n",
    "$natDataSetConverted = [System.Collections.Generic.List[PSCustomObject]]::new()\n",
    "$natSources = [System.Collections.Generic.List[PSCustomObject]]::new()\n",
    "\n",
    "foreach ($group in $sourceIpGroups) {\n",
    "    $source = $group.Group[0].SourceIp\n",
    "    $destination = \"$($group.Group[0].DestinationIp)`:$($group.Group[0].DestinationPort)\"\n",
    "    $externalCount = $group.Count\n",
    "\n",
    "    $record = [PSCustomObject]@{\n",
    "        sourceName = $source;\n",
    "        target = $destination\n",
    "        value = $externalCount\n",
    "        action = 'Allow'\n",
    "    } \n",
    "    \n",
    "    $natDataSetConverted.Add($record)\n",
    "    $natSources.Add($record)\n",
    "    \n",
    "    $targets = $group.Group | Group-Object TranslatedIp, TranslatedPort\n",
    "\n",
    "    foreach($target in $targets) {\n",
    "        $natDataSetConverted.Add(\n",
    "            [PSCustomObject]@{\n",
    "                sourceName = $destination;\n",
    "                target = $target.Group[0].TranslatedIp\n",
    "                value = $target.Count\n",
    "                action = 'Allow'\n",
    "            }\n",
    "        )\n",
    "\n",
    "    }\n",
    "}\n",
    "\n",
    "$natDataSetConverted[0..3] | ft -AutoSize"
   ]
  },
  {
   "cell_type": "markdown",
   "metadata": {},
   "source": [
    "convert data a bit more to simplify passing it to the JS kernel.  You should only use one of below cells. It depends on what you are tryimg to visualize"
   ]
  },
  {
   "cell_type": "code",
   "execution_count": null,
   "metadata": {
    "dotnet_interactive": {
     "language": "pwsh"
    },
    "polyglot_notebook": {
     "kernelName": "pwsh"
    }
   },
   "outputs": [],
   "source": [
    "# $dataSet | Export-Csv -Path .\\sankeyDataSet.csv\n",
    "$c = $appDataSetConverted | ConvertTo-Csv\n",
    "$r = $c -join \"`n\""
   ]
  },
  {
   "cell_type": "code",
   "execution_count": null,
   "metadata": {
    "dotnet_interactive": {
     "language": "pwsh"
    },
    "polyglot_notebook": {
     "kernelName": "pwsh"
    }
   },
   "outputs": [],
   "source": [
    "# $dataSet | Export-Csv -Path .\\sankeyDataSet.csv\n",
    "$c = $networkDataSetConverted | ConvertTo-Csv\n",
    "$r = $c -join \"`n\""
   ]
  },
  {
   "cell_type": "code",
   "execution_count": null,
   "metadata": {
    "dotnet_interactive": {
     "language": "pwsh"
    },
    "polyglot_notebook": {
     "kernelName": "pwsh"
    }
   },
   "outputs": [],
   "source": [
    "# $natDataSetConverted | Export-Csv -Path .\\sankeyDataSet.csv\n",
    "$c = ($locations + $natDataSetConverted)| ConvertTo-Csv\n",
    "$r = $c -join \"`n\""
   ]
  },
  {
   "cell_type": "markdown",
   "metadata": {},
   "source": [
    "Prepare canvas"
   ]
  },
  {
   "cell_type": "code",
   "execution_count": null,
   "metadata": {
    "dotnet_interactive": {
     "language": "html"
    },
    "polyglot_notebook": {
     "kernelName": "html"
    }
   },
   "outputs": [],
   "source": [
    "<svg id=\"d3_target\" style=\"width:100%;\"></svg>"
   ]
  },
  {
   "cell_type": "markdown",
   "metadata": {},
   "source": [
    "Visualize traffic flows"
   ]
  },
  {
   "cell_type": "code",
   "execution_count": null,
   "metadata": {
    "dotnet_interactive": {
     "language": "javascript"
    },
    "polyglot_notebook": {
     "kernelName": "javascript"
    }
   },
   "outputs": [],
   "source": [
    "#!set --value @pwsh:r --name csvStr\n",
    "\n",
    "let showDenyInRed = true; // Global variable to track toggle state\n",
    "\n",
    "// Specify the dimensions of the chart.\n",
    "const width = 2000;\n",
    "const height = 2000;//4800;\n",
    "\n",
    "var data = d3.csvParse(csvStr);\n",
    "\n",
    "let svg; // Global variable for the SVG element\n",
    "\n",
    "// Function to initialize the SVG container\n",
    "function initSvg() {\n",
    "        svg = d3.select(\"#d3_target\")\n",
    "        .attr(\"width\", width)\n",
    "        .attr(\"height\", height)\n",
    "        .attr(\"viewBox\", [10, 10, width, height])\n",
    "        .attr(\"style\", \"max-width: 100%; height: auto; font: 10px sans-serif;\");\n",
    "}\n",
    "\n",
    "function exportSvg() {\n",
    "    d3export.save(svg.node());\n",
    "}\n",
    "\n",
    "// Function to draw the Sankey diagram\n",
    "function drawSankey() {\n",
    "    // Clear the existing SVG content\n",
    "    svg.selectAll(\"*\").remove();\n",
    "\n",
    "    let filteredLinks = data.map((d, i) => ({\n",
    "            source: d[\"sourceName\"],\n",
    "            target: d[\"target\"],\n",
    "            value: d[\"value\"],\n",
    "            action: d[\"action\"],\n",
    "            id: i\n",
    "        }));\n",
    "\n",
    "    const nodes = Array.from(\n",
    "        new Set(filteredLinks.flatMap((d) => [d.source, d.target])),\n",
    "        (name, id) => ({ name, id, colorId: Math.floor(Math.random() * 10) + 1 })\n",
    "    );\n",
    "\n",
    "    filteredLinks.forEach((d) => {\n",
    "        d.source = nodes.find((e) => e.name === d.source).id;\n",
    "        d.target = nodes.find((e) => e.name === d.target).id;\n",
    "    });\n",
    "\n",
    "    let data_final = { nodes, links: filteredLinks }; // Corrected to { nodes, links: filteredLinks }\n",
    "\n",
    "    const sankey = d3s.sankey()\n",
    "        .nodeSort((a, b) => a.id - b.id)\n",
    "        .nodeAlign(d3s.sankeyLeft)\n",
    "        .nodeId((d) => d.id)\n",
    "        .linkSort(null)\n",
    "        .nodeWidth(20)\n",
    "        .nodePadding(20)\n",
    "        .extent([[1, 50], [width - 1, height - 5]]);\n",
    "\n",
    "    const color = d3.scaleOrdinal(d3.schemeSet3);\n",
    "\n",
    "    // Drawing nodes\n",
    "    const rect = svg.append(\"g\")\n",
    "        .attr(\"stroke\", \"#000\")\n",
    "        .selectAll(\"rect\")\n",
    "        .data(sankey(data_final).nodes)\n",
    "        .join(\"rect\")\n",
    "        .attr(\"x\", d => d.x0)\n",
    "        .attr(\"y\", d => d.y0)\n",
    "        .attr(\"height\", d => d.y1 - d.y0 >= 3 ? d.y1 - d.y0 : 3)\n",
    "        .attr(\"width\", d => d.x1 - d.x0)\n",
    "        .attr(\"fill\", d => color(d.colorId));\n",
    "\n",
    "    rect.append(\"title\")\n",
    "        //.text(d => `${d.name}\\n${d.targetLinks.length > 0 ? d.targetLinks.map(o => o.source.name).join(\"\\n\") : \"\"}`);\n",
    "        .text(d => {\n",
    "            const uniqueNames = new Set();\n",
    "\n",
    "            d.targetLinks.forEach(link => uniqueNames.add(link.source.name));\n",
    "\n",
    "            return Array.from(uniqueNames).join(\"\\n\")\n",
    "        })\n",
    "\n",
    "    // Creating gradients for links\n",
    "    const defs = svg.append(\"defs\");\n",
    "    sankey(data_final).links.forEach((link, i) => {\n",
    "        const gradient = defs.append(\"linearGradient\")\n",
    "            .attr(\"id\", \"gradient\" + i)\n",
    "            .attr(\"gradientUnits\", \"userSpaceOnUse\")\n",
    "            .attr(\"x1\", link.source.x1)\n",
    "            .attr(\"x2\", link.target.x0);\n",
    "\n",
    "        gradient.append(\"stop\")\n",
    "            .attr(\"offset\", \"0%\")\n",
    "            .attr(\"stop-color\", color(link.source.colorId));\n",
    "\n",
    "        gradient.append(\"stop\")\n",
    "            .attr(\"offset\", \"100%\")\n",
    "            .attr(\"stop-color\", color(link.target.colorId));\n",
    "    });\n",
    "\n",
    "    // Drawing links with gradient or red color based on 'showDenyInRed' and link's action\n",
    "    svg.append(\"g\")\n",
    "        .attr(\"fill\", \"none\")\n",
    "        .attr(\"stroke-opacity\", 0.5)\n",
    "        .selectAll(\"path\")\n",
    "        .data(sankey(data_final).links)\n",
    "        .join(\"path\")\n",
    "        .attr(\"d\", d3s.sankeyLinkHorizontal())\n",
    "        .attr(\"stroke\", (d, i) => showDenyInRed && d.action === \"Deny\" ? \"red\" : `url(#gradient${i})`)\n",
    "        .attr(\"stroke-width\", d => Math.max(1, d.width))\n",
    "        .append(\"title\")\n",
    "        .text(d => `${d.source.name} → ${d.target.name}`);\n",
    "\n",
    "    //Drawing labels for the nodes\n",
    "    svg.append(\"g\")\n",
    "        .selectAll(\"text\")\n",
    "        .data(sankey(data_final).nodes)\n",
    "        .join(\"text\")\n",
    "        .attr(\"x\", d => d.x0 < width / 2 ? d.x1 + 6 : d.x0 - 6)\n",
    "        .attr(\"y\", d => (d.y1 + d.y0) / 2)\n",
    "        .attr(\"dy\", \"0.35em\")\n",
    "        .attr(\"text-anchor\", d => d.x0 < width / 2 ? \"start\" : \"end\")\n",
    "        .text(d => d.name);\n",
    "}\n",
    "\n",
    "initSvg(); // Initialize the SVG container\n",
    "drawSankey(); // Draw the Sankey diagram for the first time\n",
    "exportSvg();"
   ]
  }
 ],
 "metadata": {
  "kernelspec": {
   "display_name": ".NET (C#)",
   "language": "C#",
   "name": ".net-csharp"
  },
  "language_info": {
   "name": "polyglot-notebook"
  },
  "polyglot_notebook": {
   "kernelInfo": {
    "defaultKernelName": "csharp",
    "items": [
     {
      "aliases": [],
      "name": "csharp"
     }
    ]
   }
  }
 },
 "nbformat": 4,
 "nbformat_minor": 2
}
